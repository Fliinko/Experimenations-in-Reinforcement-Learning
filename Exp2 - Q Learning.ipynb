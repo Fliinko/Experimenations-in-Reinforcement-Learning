{
 "cells": [
  {
   "cell_type": "code",
   "execution_count": 1,
   "id": "6bc300e4",
   "metadata": {},
   "outputs": [
    {
     "name": "stdout",
     "output_type": "stream",
     "text": [
      "+---------+\n",
      "|R: | : :G|\n",
      "| : | : : |\n",
      "| :\u001b[43m \u001b[0m: : : |\n",
      "| | : | : |\n",
      "|\u001b[35mY\u001b[0m| : |\u001b[34;1mB\u001b[0m: |\n",
      "+---------+\n",
      "\n"
     ]
    }
   ],
   "source": [
    "import numpy as np \n",
    "import gym   \n",
    "import random\n",
    "from collections import defaultdict\n",
    "\n",
    "env = gym.make(\"Taxi-v3\")\n",
    "env.render()"
   ]
  },
  {
   "cell_type": "code",
   "execution_count": 2,
   "id": "1579ad89",
   "metadata": {},
   "outputs": [
    {
     "name": "stdout",
     "output_type": "stream",
     "text": [
      "Action Size:  6\n",
      "State Size:  500\n"
     ]
    }
   ],
   "source": [
    "action_size = env.action_space.n\n",
    "print(\"Action Size: \", action_size)\n",
    "\n",
    "state_size = env.observation_space.n\n",
    "print(\"State Size: \", state_size)"
   ]
  },
  {
   "cell_type": "code",
   "execution_count": 9,
   "id": "8d79f14b",
   "metadata": {},
   "outputs": [],
   "source": [
    "class Q_Learning():\n",
    "    \n",
    "    def __init__(self, gamma = 0.95, learning_rate = 1, epsilon = 0.0001, nepisodes = 10000):\n",
    "        self.gamma = gamma\n",
    "        self.learning_rate = learning_rate\n",
    "        self.epsilon = epsilon\n",
    "        self.nepisodes = nepisodes\n",
    "        self.Q = np.zeros((state_size, action_size))\n",
    "\n",
    "    def greedy_policy(self, state):\n",
    "        return np.argmax(self.Q[state])\n",
    "\n",
    "    def epsilon_greedy_policy(self, state):\n",
    "        action = 0\n",
    "        if np.random.uniform() < self.epsilon:\n",
    "            action = np.random.choice(env.action_space.n)\n",
    "        else:\n",
    "            action = self.greedy_policy(state)\n",
    "        return action\n",
    "\n",
    "    def offpolicy_control(self, test_episodes):\n",
    "        \n",
    "        for episode in range(self.nepisodes):\n",
    "            state = env.reset()\n",
    "            done = False\n",
    "            total_rewards = 0\n",
    "            \n",
    "            while not done:\n",
    "                action = self.epsilon_greedy_policy(state)\n",
    "                next_state, reward, done, info = env.step(action)\n",
    "                self.Q[state][action] = self.Q[state][action] + self.learning_rate*(reward + self.gamma*np.max(self.Q[next_state]) - self.Q[state][action])\n",
    "                state = next_state\n",
    "            res = self.test_policy(test_episodes)\n",
    "            if episode % 100 == 0:\n",
    "                print(f'Episode: {episode} Success%: {res}')\n",
    "            if res>70:\n",
    "                print(f'Solved! Episode: {episode} Success%: {res}')\n",
    "                return self.Q\n",
    "        \n",
    "        score = res/test_episodes\n",
    "        print(\"Score: \" + str(score))\n",
    "        \n",
    "        return self.Q\n",
    "    \n",
    "    def test_policy(self, n):\n",
    "        \n",
    "        success = 0\n",
    "        for episode in range(n):\n",
    "            state = env.reset()\n",
    "            done = False\n",
    "            while not done:\n",
    "                action = self.greedy_policy(state)\n",
    "                state, reward, done, info = env.step(action)\n",
    "            if reward == 1:\n",
    "                success += 1\n",
    "        \n",
    "        return success/n*100"
   ]
  },
  {
   "cell_type": "code",
   "execution_count": null,
   "id": "716242ea",
   "metadata": {},
   "outputs": [
    {
     "name": "stdout",
     "output_type": "stream",
     "text": [
      "Episode: 0 Success%: 0.0\n",
      "Episode: 100 Success%: 0.0\n",
      "Episode: 200 Success%: 0.0\n",
      "Episode: 300 Success%: 0.0\n",
      "Episode: 400 Success%: 0.0\n"
     ]
    }
   ],
   "source": [
    "a = Q_Learning()\n",
    "Q = a.offpolicy_control(200)"
   ]
  },
  {
   "cell_type": "code",
   "execution_count": null,
   "id": "974f06b4",
   "metadata": {},
   "outputs": [],
   "source": []
  }
 ],
 "metadata": {
  "kernelspec": {
   "display_name": "Python 3 (ipykernel)",
   "language": "python",
   "name": "python3"
  },
  "language_info": {
   "codemirror_mode": {
    "name": "ipython",
    "version": 3
   },
   "file_extension": ".py",
   "mimetype": "text/x-python",
   "name": "python",
   "nbconvert_exporter": "python",
   "pygments_lexer": "ipython3",
   "version": "3.9.7"
  }
 },
 "nbformat": 4,
 "nbformat_minor": 5
}
