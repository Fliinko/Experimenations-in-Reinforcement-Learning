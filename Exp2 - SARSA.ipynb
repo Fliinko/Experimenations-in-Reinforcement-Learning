{
 "cells": [
  {
   "cell_type": "code",
   "execution_count": 5,
   "id": "103446b7",
   "metadata": {},
   "outputs": [
    {
     "name": "stdout",
     "output_type": "stream",
     "text": [
      "+---------+\n",
      "|\u001b[34;1mR\u001b[0m: | :\u001b[43m \u001b[0m:\u001b[35mG\u001b[0m|\n",
      "| : | : : |\n",
      "| : : : : |\n",
      "| | : | : |\n",
      "|Y| : |B: |\n",
      "+---------+\n",
      "\n"
     ]
    }
   ],
   "source": [
    "import numpy as np \n",
    "import gym   \n",
    "import random\n",
    "from collections import defaultdict\n",
    "import matplotlib.pyplot as plt\n",
    "\n",
    "env = gym.make(\"Taxi-v3\")\n",
    "env.render()"
   ]
  },
  {
   "cell_type": "code",
   "execution_count": 6,
   "id": "605886ee",
   "metadata": {},
   "outputs": [
    {
     "name": "stdout",
     "output_type": "stream",
     "text": [
      "Action Size:  6\n",
      "State Size:  500\n"
     ]
    }
   ],
   "source": [
    "action_size = env.action_space.n\n",
    "print(\"Action Size: \", action_size)\n",
    "\n",
    "state_size = env.observation_space.n\n",
    "print(\"State Size: \", state_size)"
   ]
  },
  {
   "cell_type": "code",
   "execution_count": 15,
   "id": "fdc2eee5",
   "metadata": {},
   "outputs": [],
   "source": [
    "class Sarsa_Agent():\n",
    "    \n",
    "    def __init__(self, gamma = 0.95, learning_rate = 10, epsilon = 0.002, nepisodes = 10000):\n",
    "        self.gamma = gamma\n",
    "        self.learning_rate = learning_rate\n",
    "        self.epsilon = epsilon\n",
    "        self.nepisodes = nepisodes\n",
    "        self.Q = defaultdict(lambda: np.zeros(env.action_space.n)) \n",
    "\n",
    "    def greedy_policy(self, state):\n",
    "        return np.argmax(self.Q[state])\n",
    "\n",
    "    def epsilon_greedy_policy(self, state):\n",
    "        action = 0\n",
    "        if np.random.uniform() < self.epsilon:\n",
    "            action = np.random.choice(env.action_space.n)\n",
    "        else:\n",
    "            action = self.greedy_policy(state)\n",
    "        return action\n",
    "\n",
    "    def onpolicy_control(self):\n",
    "        reslist = []\n",
    "        for episode in range(self.nepisodes):\n",
    "            state = env.reset()\n",
    "            done = False\n",
    "            action = self.epsilon_greedy_policy(state)\n",
    "            while not done:\n",
    "                next_state, reward, done, info = env.step(action)\n",
    "                next_action = self.epsilon_greedy_policy(next_state)\n",
    "                self.Q[state][action] = self.Q[state][action] + self.learning_rate*(reward + self.gamma*self.Q[next_state][next_action] - self.Q[state][action])\n",
    "                state = next_state\n",
    "                action = next_action\n",
    "            res = self.test_policy(200)\n",
    "            reslist.append(res)\n",
    "            if episode % 100 == 0:\n",
    "                print(f'Episode: {episode} Success%: {res}')\n",
    "            if res>70:\n",
    "                print(f'Solved! Episode: {episode} Success%: {res}')\n",
    "                return self.Q\n",
    "            \n",
    "            \n",
    "        fig = plt.figure()\n",
    "        ax = fig.add_subplot(111)\n",
    "        plt.plot(np.arange(len(reslist)), reslist)\n",
    "        plt.ylabel('Success')\n",
    "        plt.xlabel('Episode #')\n",
    "        plt.show()\n",
    "        \n",
    "        score = sum(reslist)/test_episodes\n",
    "        print(\"Score: \" + str(score))\n",
    "        \n",
    "        return self.Q\n",
    "    \n",
    "    def test_policy(self, n):\n",
    "        success = 0\n",
    "        for episode in range(n):\n",
    "            state = env.reset()\n",
    "            done = False\n",
    "            while not done:\n",
    "                action = self.greedy_policy(state)\n",
    "                state, reward, done, info = env.step(action)\n",
    "            if reward == 1:\n",
    "                success += 1\n",
    "        return success/n*100"
   ]
  },
  {
   "cell_type": "code",
   "execution_count": null,
   "id": "db9a19f0",
   "metadata": {},
   "outputs": [
    {
     "name": "stdout",
     "output_type": "stream",
     "text": [
      "Episode: 0 Success%: 0.0\n"
     ]
    },
    {
     "name": "stderr",
     "output_type": "stream",
     "text": [
      "C:\\Users\\owena\\AppData\\Local\\Temp/ipykernel_19288/1059358293.py:30: RuntimeWarning: overflow encountered in double_scalars\n",
      "  self.Q[state][action] = self.Q[state][action] + self.learning_rate*(reward + self.gamma*self.Q[next_state][next_action] - self.Q[state][action])\n",
      "C:\\Users\\owena\\AppData\\Local\\Temp/ipykernel_19288/1059358293.py:30: RuntimeWarning: invalid value encountered in double_scalars\n",
      "  self.Q[state][action] = self.Q[state][action] + self.learning_rate*(reward + self.gamma*self.Q[next_state][next_action] - self.Q[state][action])\n"
     ]
    },
    {
     "name": "stdout",
     "output_type": "stream",
     "text": [
      "Episode: 100 Success%: 0.0\n",
      "Episode: 200 Success%: 0.0\n",
      "Episode: 300 Success%: 0.0\n",
      "Episode: 400 Success%: 0.0\n",
      "Episode: 500 Success%: 0.0\n",
      "Episode: 600 Success%: 0.0\n",
      "Episode: 700 Success%: 0.0\n",
      "Episode: 800 Success%: 0.0\n",
      "Episode: 900 Success%: 0.0\n",
      "Episode: 1000 Success%: 0.0\n",
      "Episode: 1100 Success%: 0.0\n",
      "Episode: 1200 Success%: 0.0\n",
      "Episode: 1300 Success%: 0.0\n",
      "Episode: 1400 Success%: 0.0\n",
      "Episode: 1500 Success%: 0.0\n",
      "Episode: 1600 Success%: 0.0\n"
     ]
    }
   ],
   "source": [
    "a = Sarsa_Agent()\n",
    "Q = a.onpolicy_control()\n",
    "a.test_policy(100)"
   ]
  },
  {
   "cell_type": "code",
   "execution_count": null,
   "id": "b3557b8a",
   "metadata": {},
   "outputs": [],
   "source": []
  }
 ],
 "metadata": {
  "kernelspec": {
   "display_name": "Python 3 (ipykernel)",
   "language": "python",
   "name": "python3"
  },
  "language_info": {
   "codemirror_mode": {
    "name": "ipython",
    "version": 3
   },
   "file_extension": ".py",
   "mimetype": "text/x-python",
   "name": "python",
   "nbconvert_exporter": "python",
   "pygments_lexer": "ipython3",
   "version": "3.9.7"
  }
 },
 "nbformat": 4,
 "nbformat_minor": 5
}
