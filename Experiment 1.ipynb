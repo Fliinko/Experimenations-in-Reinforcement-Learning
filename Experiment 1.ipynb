{
 "cells": [
  {
   "cell_type": "code",
   "execution_count": 1,
   "id": "b84729fb",
   "metadata": {},
   "outputs": [],
   "source": [
    "from scipy.stats import beta\n",
    "import matplotlib.pyplot as plt\n",
    "import numpy as np"
   ]
  },
  {
   "cell_type": "markdown",
   "id": "42f67f05",
   "metadata": {},
   "source": [
    "### Turning the Given Dataset to a List"
   ]
  },
  {
   "cell_type": "code",
   "execution_count": 52,
   "id": "22fd3e83",
   "metadata": {},
   "outputs": [],
   "source": [
    "path = \"adverts_dataset.txt\"\n",
    "with open(path, \"r\") as text_file:\n",
    "    data = [(line.split()[2]) for line in text_file]\n",
    "    \n",
    "#print(data)"
   ]
  },
  {
   "cell_type": "code",
   "execution_count": 27,
   "id": "18c7aa4d",
   "metadata": {},
   "outputs": [],
   "source": [
    "NUM_TRIALS = 10000\n",
    "BANDIT_PROBABILITIES = [0.2, 0.5, 0.6, 0.75, 0.8]\n",
    "EPS = 0.2"
   ]
  },
  {
   "cell_type": "markdown",
   "id": "7183750d",
   "metadata": {},
   "source": [
    "### Thompson Sampling"
   ]
  },
  {
   "cell_type": "code",
   "execution_count": 23,
   "id": "13dee1e6",
   "metadata": {},
   "outputs": [],
   "source": [
    "class TS_Bandit:\n",
    "  def __init__(self, p):\n",
    "    self.p = p\n",
    "    self.a = 1\n",
    "    self.b = 1\n",
    "    self.N = 0 # for information only\n",
    "\n",
    "  def pull(self):\n",
    "    return np.random.random() < self.p\n",
    "\n",
    "  def sample(self):\n",
    "    return np.random.beta(self.a, self.b)\n",
    "\n",
    "  def update(self, x):\n",
    "    self.a += x\n",
    "    self.b += 1 - x\n",
    "    self.N += 1"
   ]
  },
  {
   "cell_type": "code",
   "execution_count": 24,
   "id": "f1bfa4b7",
   "metadata": {},
   "outputs": [],
   "source": [
    "def plot(bandits, trial):\n",
    "  x = np.linspace(0, 1, 200)\n",
    "  for b in bandits:\n",
    "    y = beta.pdf(x, b.a, b.b)\n",
    "    plt.plot(x, y, label=f\"real p: {b.p:.4f}, win rate = {b.a - 1}/{b.N}\")\n",
    "  plt.title(f\"Bandit distributions after {trial} trials\")\n",
    "  plt.legend()\n",
    "  plt.show()"
   ]
  },
  {
   "cell_type": "code",
   "execution_count": 28,
   "id": "27772d43",
   "metadata": {},
   "outputs": [],
   "source": [
    "def ts_experiment(dataset):\n",
    "  bandits = [TS_Bandit(p) for p in BANDIT_PROBABILITIES]\n",
    "\n",
    "  sample_points = dataset\n",
    "  rewards = np.zeros(NUM_TRIALS)\n",
    "  for i in range(NUM_TRIALS):\n",
    "    # Thompson sampling\n",
    "    j = np.argmax([b.sample() for b in bandits])\n",
    "\n",
    "    # plot the posteriors\n",
    "    if i in sample_points:\n",
    "      plot(bandits, i)\n",
    "\n",
    "    # pull the arm for the bandit with the largest sample\n",
    "    x = bandits[j].pull()\n",
    "\n",
    "    # update rewards\n",
    "    rewards[i] = x\n",
    "\n",
    "    # update the distribution for the bandit whose arm we just pulled\n",
    "    bandits[j].update(x)\n",
    "\n",
    "  # print total reward\n",
    "  print(\"total reward earned:\", rewards.sum())\n",
    "  print(\"overall win rate:\", rewards.sum() / NUM_TRIALS)\n",
    "  print(\"num times selected each bandit:\", [b.N for b in bandits])"
   ]
  },
  {
   "cell_type": "code",
   "execution_count": 29,
   "id": "09a343a1",
   "metadata": {},
   "outputs": [
    {
     "name": "stdout",
     "output_type": "stream",
     "text": [
      "total reward earned: 7918.0\n",
      "overall win rate: 0.7918\n",
      "num times selected each bandit: [5, 41, 34, 627, 9293]\n"
     ]
    }
   ],
   "source": [
    "ts_experiment(data)"
   ]
  },
  {
   "cell_type": "markdown",
   "id": "1afd5943",
   "metadata": {},
   "source": [
    "### Epsilon Greedy"
   ]
  },
  {
   "cell_type": "code",
   "execution_count": 41,
   "id": "ec423c4e",
   "metadata": {},
   "outputs": [],
   "source": [
    "class EG_Bandit:\n",
    "  def __init__(self, p):\n",
    "    # p: the win rate\n",
    "    self.p = p\n",
    "    self.p_estimate = 0.\n",
    "    self.N = 0. # num samples collected so far\n",
    "\n",
    "  def pull(self):\n",
    "    # draw a 1 with probability p\n",
    "    return int(np.random.random() < self.p)\n",
    "\n",
    "  def update(self, x):\n",
    "    self.N += 1.\n",
    "    self.p_estimate = ((self.N - 1)*self.p_estimate + x) / self.N"
   ]
  },
  {
   "cell_type": "code",
   "execution_count": 44,
   "id": "11006fad",
   "metadata": {},
   "outputs": [],
   "source": [
    "def eg_experiment(adaptiveEpsilon  = False):\n",
    "    bandits = [EG_Bandit(p) for p in BANDIT_PROBABILITIES]\n",
    "\n",
    "    rewards = np.zeros(NUM_TRIALS)\n",
    "    num_times_explored = 0\n",
    "    num_times_exploited = 0\n",
    "    num_optimal = 0\n",
    "    optimal_j = np.argmax([b.p for b in bandits])\n",
    "    print(\"optimal bandit:\", optimal_j + 1) # +1 since index starts at 0\n",
    "\n",
    "    for i in range(NUM_TRIALS):\n",
    "        if adaptiveEpsilon:\n",
    "            e = 1 / (i+.0001)\n",
    "        else:\n",
    "            e = EPS\n",
    "            \n",
    "        # use epsilon-greedy to select the next bandit\n",
    "        if np.random.random() < e:\n",
    "            num_times_explored += 1\n",
    "            j = np.random.randint(len(bandits))\n",
    "        else:\n",
    "            num_times_exploited += 1\n",
    "            j = np.argmax([b.p_estimate for b in bandits])\n",
    "\n",
    "        if j == optimal_j:\n",
    "            num_optimal += 1\n",
    "\n",
    "        # pull the arm for the bandit with the largest sample\n",
    "        x = bandits[j].pull()\n",
    "\n",
    "        # update rewards log\n",
    "        rewards[i] = x\n",
    "\n",
    "        # update the distribution for the bandit whose arm we just pulled\n",
    "        bandits[j].update(x)\n",
    "\n",
    "    \n",
    "    # print mean estimates for each bandit\n",
    "    c = 0\n",
    "    for b in bandits:\n",
    "        c += 1\n",
    "        print(f\"mean estimate for bandit {c}:\", b.p_estimate)\n",
    "\n",
    "    # print total reward\n",
    "    print(\"total reward earned:\", rewards.sum())\n",
    "    print(\"overall win rate:\", rewards.sum() / NUM_TRIALS)\n",
    "    print(\"num_times_explored:\", num_times_explored)\n",
    "    print(\"num_times_exploited:\", num_times_exploited)\n",
    "    print(\"num times selected optimal bandit:\", num_optimal) # +1 since index starts from zero\n",
    "\n",
    "    # plot the results\n",
    "    cumulative_rewards = np.cumsum(rewards)\n",
    "    win_rates = cumulative_rewards / (np.arange(NUM_TRIALS) + 1)\n",
    "    plt.plot(win_rates)\n",
    "    plt.plot(np.ones(NUM_TRIALS)*np.max(BANDIT_PROBABILITIES))\n",
    "    plt.show()"
   ]
  },
  {
   "cell_type": "code",
   "execution_count": 45,
   "id": "b47c186f",
   "metadata": {},
   "outputs": [
    {
     "name": "stdout",
     "output_type": "stream",
     "text": [
      "optimal bandit: 5\n",
      "mean estimate for bandit 1: 0.18932038834951456\n",
      "mean estimate for bandit 2: 0.47607655502392343\n",
      "mean estimate for bandit 3: 0.561521252796421\n",
      "mean estimate for bandit 4: 0.7487179487179487\n",
      "mean estimate for bandit 5: 0.8029521180847236\n",
      "total reward earned: 7511.0\n",
      "overall win rate: 0.7511\n",
      "num_times_explored: 1986\n",
      "num_times_exploited: 8014\n",
      "num times selected optimal bandit: 8333\n"
     ]
    },
    {
     "data": {
      "image/png": "[encoded data removed]",
      "text/plain": [
       "<Figure size 432x288 with 1 Axes>"
      ]
     },
     "metadata": {
      "needs_background": "light"
     },
     "output_type": "display_data"
    }
   ],
   "source": [
    "eg_experiment(adaptiveEpsilon = False)"
   ]
  },
  {
   "cell_type": "markdown",
   "id": "7c48ce4f",
   "metadata": {},
   "source": [
    "## Lin-UCB"
   ]
  },
  {
   "cell_type": "markdown",
   "id": "534f43e0",
   "metadata": {},
   "source": [
    "Create a class object for a single Lin-UCB Disjoint Arm"
   ]
  },
  {
   "cell_type": "code",
   "execution_count": 58,
   "id": "d7bc2eb9",
   "metadata": {},
   "outputs": [],
   "source": [
    "class LinUCB_Arm():\n",
    "    \n",
    "    def __init__(self, arm, d, alpha):\n",
    "        \n",
    "        #Arm Index\n",
    "        self.arm = arm\n",
    "        \n",
    "        self.alpha = alpha\n",
    "        self.A = np.identity(d)\n",
    "        self.b = np.zeros([d,1])\n",
    "        \n",
    "    def calc_UCB(self, x):\n",
    "        \n",
    "        #Finding A inverse\n",
    "        inverse_A = np.linalg.inv(self.A)\n",
    "        self.theta = np.dot(inverse_A, self.b)\n",
    "        y = x.reshape([-1,1])\n",
    "        p = np.dot(self.theta.T,x) + self.alpha * np.sqrt(np.dot(x.T, np.dot(inverse_A,x)))\n",
    "        \n",
    "        return p\n",
    "    \n",
    "    def reward_update(self, reward, x):\n",
    "        \n",
    "        y = x.reshape([-1,1])\n",
    "        self.A += np.dot(x,x.T)\n",
    "        self.b += reward*y"
   ]
  },
  {
   "cell_type": "markdown",
   "id": "83877ed2",
   "metadata": {},
   "source": [
    "Creating class for LinUCB policy which accepts K arms"
   ]
  },
  {
   "cell_type": "code",
   "execution_count": 59,
   "id": "22f5f53e",
   "metadata": {},
   "outputs": [],
   "source": [
    "class LinUCB_Policy():\n",
    "    \n",
    "    def __init__(self, k, d, alpha):\n",
    "        \n",
    "        self.k = k\n",
    "        self.arms = [LinUCB_Arm(arm = 1, d = d, alpha = alpha) for i in range(k)] #Creating arms as objects of disjoint arms for count k\n",
    "        \n",
    "    #Method for arm selection    \n",
    "    def select(self, x):\n",
    "        \n",
    "        max_ucb = -1\n",
    "        candidate_arms = []\n",
    "        \n",
    "        for a in range(self.k):\n",
    "            arm_ucb  = self.arms[a].calc_UCB(x)\n",
    "            \n",
    "            if arm_ucb > max_ucb:\n",
    "                max_ucb = arm_ucb\n",
    "                candidate_arms = [a]\n",
    "                \n",
    "            if arm_ucb == max_ucb:\n",
    "                candidate_arms.append(a)\n",
    "                \n",
    "        chosen = np.random.choice(candidate_arms)\n",
    "        \n",
    "        return chosen"
   ]
  },
  {
   "cell_type": "code",
   "execution_count": 60,
   "id": "6862d22e",
   "metadata": {},
   "outputs": [],
   "source": [
    "def lin_ucb(k, d, alpha, data):\n",
    "    \n",
    "    policy = LinUCB_Policy(k = k, d = d, alpha = alpha)\n",
    "    \n",
    "    time_steps = 0\n",
    "    reward_sum = 0\n",
    "    alignedcounter = []\n",
    "    counter = []\n",
    "    \n",
    "    with open(data, \"r\") as dataset:\n",
    "        for line in dataset:\n",
    "            \n",
    "            data_arm = int(line.split()[0])\n",
    "            \n",
    "            data_reward = float(line.split()[1])\n",
    "            \n",
    "            covariates = line.split()[2:]\n",
    "            x =  np.array([float(elem) for elem in covariates])\n",
    "            \n",
    "            index = policy.select(x)\n",
    "            \n",
    "            if index + 1  == data_arm:\n",
    "                policy.arms[index].reward_update(data_reward, x)\n",
    "                \n",
    "                time_steps += 1\n",
    "                reward_sum += data_reward\n",
    "                alignedcounter.append(reward_sum/time_steps)\n",
    "                \n",
    "    return (time_steps, reward_sum, alignedcounter, policy)"
   ]
  },
  {
   "cell_type": "code",
   "execution_count": 62,
   "id": "d94c4306",
   "metadata": {},
   "outputs": [],
   "source": [
    "input = 2\n",
    "time_steps,  reward_sum, alignedcounter, policy = lin_ucb(k = 10,d = 100,alpha = input,data = path)"
   ]
  },
  {
   "cell_type": "code",
   "execution_count": 64,
   "id": "f760a41a",
   "metadata": {},
   "outputs": [
    {
     "data": {
      "text/plain": [
       "Text(0.5, 1.0, 'LinUCB Alpha = 2')"
      ]
     },
     "execution_count": 64,
     "metadata": {},
     "output_type": "execute_result"
    },
    {
     "data": {
      "image/png": "[encoded data removed]",
      "text/plain": [
       "<Figure size 432x288 with 1 Axes>"
      ]
     },
     "metadata": {
      "needs_background": "light"
     },
     "output_type": "display_data"
    }
   ],
   "source": [
    "plt.plot(alignedcounter)\n",
    "plt.title(\"LinUCB Alpha = \" + str(input))"
   ]
  },
  {
   "cell_type": "code",
   "execution_count": 65,
   "id": "4370a79b",
   "metadata": {},
   "outputs": [
    {
     "data": {
      "text/plain": [
       "Text(0.5, 1.0, 'LinUCB Alpha = 1.5')"
      ]
     },
     "execution_count": 65,
     "metadata": {},
     "output_type": "execute_result"
    },
    {
     "data": {
      "image/png": "[encoded data removed]",
      "text/plain": [
       "<Figure size 432x288 with 1 Axes>"
      ]
     },
     "metadata": {
      "needs_background": "light"
     },
     "output_type": "display_data"
    }
   ],
   "source": [
    "input = 1.5\n",
    "time_steps,  reward_sum, alignedcounter, policy = lin_ucb(k = 10,d = 100,alpha = input,data = path)\n",
    "plt.plot(alignedcounter)\n",
    "plt.title(\"LinUCB Alpha = \" + str(input))"
   ]
  },
  {
   "cell_type": "code",
   "execution_count": 66,
   "id": "b966c1ee",
   "metadata": {},
   "outputs": [
    {
     "data": {
      "text/plain": [
       "Text(0.5, 1.0, 'LinUCB Alpha = 1.0')"
      ]
     },
     "execution_count": 66,
     "metadata": {},
     "output_type": "execute_result"
    },
    {
     "data": {
      "image/png": "[encoded data removed]",
      "text/plain": [
       "<Figure size 432x288 with 1 Axes>"
      ]
     },
     "metadata": {
      "needs_background": "light"
     },
     "output_type": "display_data"
    }
   ],
   "source": [
    "input = 1.0\n",
    "time_steps,  reward_sum, alignedcounter, policy = lin_ucb(k = 10,d = 100,alpha = input,data = path)\n",
    "plt.plot(alignedcounter)\n",
    "plt.title(\"LinUCB Alpha = \" + str(input))"
   ]
  },
  {
   "cell_type": "code",
   "execution_count": 67,
   "id": "6e0c5e7a",
   "metadata": {},
   "outputs": [
    {
     "data": {
      "text/plain": [
       "Text(0.5, 1.0, 'LinUCB Alpha = 0.5')"
      ]
     },
     "execution_count": 67,
     "metadata": {},
     "output_type": "execute_result"
    },
    {
     "data": {
      "image/png": "[encoded data removed]",
      "text/plain": [
       "<Figure size 432x288 with 1 Axes>"
      ]
     },
     "metadata": {
      "needs_background": "light"
     },
     "output_type": "display_data"
    }
   ],
   "source": [
    "input = 0.5\n",
    "time_steps,  reward_sum, alignedcounter, policy = lin_ucb(k = 10,d = 100,alpha = input,data = path)\n",
    "plt.plot(alignedcounter)\n",
    "plt.title(\"LinUCB Alpha = \" + str(input))"
   ]
  },
  {
   "cell_type": "code",
   "execution_count": null,
   "id": "2d95ea7b",
   "metadata": {},
   "outputs": [],
   "source": []
  }
 ],
 "metadata": {
  "kernelspec": {
   "display_name": "Python 3 (ipykernel)",
   "language": "python",
   "name": "python3"
  },
  "language_info": {
   "codemirror_mode": {
    "name": "ipython",
    "version": 3
   },
   "file_extension": ".py",
   "mimetype": "text/x-python",
   "name": "python",
   "nbconvert_exporter": "python",
   "pygments_lexer": "ipython3",
   "version": "3.9.7"
  }
 },
 "nbformat": 4,
 "nbformat_minor": 5
}
